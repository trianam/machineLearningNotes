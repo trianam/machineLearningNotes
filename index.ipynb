{
 "cells": [
  {
   "cell_type": "markdown",
   "metadata": {},
   "source": [
    "# Machine Learning notes\n",
    "---\n",
    "Those notebooks are about machine learning. They are developed with the objective of enhancing my knowledge in the field and to study in prevision of my PHD. They are based on the machine learning [course](http://ai.dinfo.unifi.it/teaching/ml_2016.html) of [Paolo Frasconi](http://www.dsi.unifi.it/users/paolo/) at University of Florence and on the books:\n",
    "* [HTF09] T. Hastie, R. Tibshirani, and J. Friedman. [The Elements of Statistical Learning. Data Mining, Inference, and Prediction](http://statweb.stanford.edu/~tibs/ElemStatLearn/). 2nd edition. Springer, 2009.\n",
    "* [FBC16] I. Goodfellow, Y. Bengio, A. Courville. [Deep Learning](http://www.deeplearningbook.org). MIT Press, 2016.\n",
    "* [B12] D. Barber. [Bayesian Reasoning and Machine Learning](http://web4.cs.ucl.ac.uk/staff/D.Barber/pmwiki/pmwiki.php?n=Brml.HomePage). Cambridge University Press, 2012.\n",
    "---\n",
    "## Index\n",
    "1. ### [Introduction](introduction.ipynb)\n",
    "    Introduction on terminology and concepts\n",
    "2. ### [Test](test.ipynb)\n",
    "    Test page"
   ]
  }
 ],
 "metadata": {
  "anaconda-cloud": {},
  "kernelspec": {
   "display_name": "Python [default]",
   "language": "python",
   "name": "python3"
  },
  "language_info": {
   "codemirror_mode": {
    "name": "ipython",
    "version": 3
   },
   "file_extension": ".py",
   "mimetype": "text/x-python",
   "name": "python",
   "nbconvert_exporter": "python",
   "pygments_lexer": "ipython3",
   "version": "3.5.2"
  }
 },
 "nbformat": 4,
 "nbformat_minor": 1
}
